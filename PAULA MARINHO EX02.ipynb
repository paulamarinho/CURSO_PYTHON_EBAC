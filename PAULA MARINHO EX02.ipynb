{
  "nbformat": 4,
  "nbformat_minor": 0,
  "metadata": {
    "colab": {
      "name": "modulo_2_exercicios.ipynb",
      "provenance": [],
      "collapsed_sections": [],
      "toc_visible": true
    },
    "kernelspec": {
      "name": "python3",
      "display_name": "Python 3"
    }
  },
  "cells": [
    {
      "cell_type": "markdown",
      "metadata": {
        "id": "KJqp9AANOCtf"
      },
      "source": [
        "<img src=\"https://raw.githubusercontent.com/andre-marcos-perez/ebac-course-utils/main/media/logo/newebac_logo_black_half.png\" alt=\"ebac-logo\">\n",
        "\n",
        "---\n",
        "\n",
        "# **Módulo 02** | Python: Estruturas de Dados\n",
        "Caderno de **Exercícios**<br> \n",
        "Professor [André Perez](https://www.linkedin.com/in/andremarcosperez/)\n",
        "\n",
        "---"
      ]
    },
    {
      "cell_type": "markdown",
      "metadata": {
        "id": "d9jDtUbDOE1-"
      },
      "source": [
        "# **Tópicos**\n",
        "\n",
        "<ol type=\"1\">\n",
        "  <li>Listas;</li>\n",
        "  <li>Conjuntos;</li>\n",
        "  <li>Dicionários.</li>\n",
        "</ol>"
      ]
    },
    {
      "cell_type": "markdown",
      "metadata": {
        "id": "SmoHgt-lwkpD"
      },
      "source": [
        "---"
      ]
    },
    {
      "cell_type": "markdown",
      "metadata": {
        "id": "GABI6OW8OfQ2"
      },
      "source": [
        "# **Exercícios**"
      ]
    },
    {
      "cell_type": "markdown",
      "metadata": {
        "id": "muD1vxozykSC"
      },
      "source": [
        "## 1\\. Listas"
      ]
    },
    {
      "cell_type": "markdown",
      "metadata": {
        "id": "ahrFfCuBxJKs"
      },
      "source": [
        "Criei uma lista chamada `filmes` com o nome dos 10 primeiros filmes mais bem avaliados no site no [IMDB](https://www.imdb.com/chart/top/). Imprima o resultado."
      ]
    },
    {
      "cell_type": "code",
      "metadata": {
        "id": "OgL6Hv3bzOHI",
        "colab": {
          "base_uri": "https://localhost:8080/"
        },
        "outputId": "d010c0d1-76c2-4ac8-e71f-c5ea9c48550e"
      },
      "source": [
        "filmes = [\n",
        "          'Um Sonho de Liberdade',\n",
        "          'O Poderoso Chefão',\n",
        "          'O Poderoso Chefão II',\n",
        "          'Batman: O Cavaleiro das Trevas',\n",
        "          '12 Homens e uma Sentença',\n",
        "          'A Lista de Schindler',\n",
        "          'O Senhor dos Anéis: O Retorno do Rei',\n",
        "          'Pulp Fiction: Tempo de Violência',\n",
        "          'Homem-Aranha: Sem Volta Para Casa',\n",
        "          'Três Homens em Conflito'\n",
        "          ]\n",
        "print (filmes)"
      ],
      "execution_count": 16,
      "outputs": [
        {
          "output_type": "stream",
          "name": "stdout",
          "text": [
            "['Um Sonho de Liberdade', 'O Poderoso Chefão', 'O Poderoso Chefão II', 'Batman: O Cavaleiro das Trevas', '12 Homens e uma Sentença', 'A Lista de Schindler', 'O Senhor dos Anéis: O Retorno do Rei', 'Pulp Fiction: Tempo de Violência', 'Homem-Aranha: Sem Volta Para Casa', 'Três Homens em Conflito']\n"
          ]
        }
      ]
    },
    {
      "cell_type": "markdown",
      "metadata": {
        "id": "KI9zQRT2xa7m"
      },
      "source": [
        "Simule a movimentação do *ranking*. Utilize os métodos `insert` e `pop` para trocar a posição do primeiro e do segundo filme da lista. Imprima o resultado.\n",
        "\n"
      ]
    },
    {
      "cell_type": "code",
      "metadata": {
        "id": "zX3mA3_GzrXH",
        "colab": {
          "base_uri": "https://localhost:8080/"
        },
        "outputId": "1e9d8ac8-4424-4c55-fd69-89da32ec1b7f"
      },
      "source": [
        "filmes = [\n",
        "          'Um Sonho de Liberdade',\n",
        "          'O Poderoso Chefão',\n",
        "          'O Poderoso Chefão II',\n",
        "          'Batman: O Cavaleiro das Trevas',\n",
        "          '12 Homens e uma Sentença',\n",
        "          'A Lista de Schindler',\n",
        "          'O Senhor dos Anéis: O Retorno do Rei',\n",
        "          'Pulp Fiction: Tempo de Violência',\n",
        "          'Homem-Aranha: Sem Volta Para Casa',\n",
        "          'Três Homens em Conflito'\n",
        "          ]\n",
        "print (filmes)\n",
        "primeiro_lugar = filmes.pop (0)\n",
        "segundo_lugar = filmes.pop (0)\n",
        "filmes.insert (0,primeiro_lugar)\n",
        "filmes.insert (0,segundo_lugar)\n",
        "print (filmes)"
      ],
      "execution_count": 23,
      "outputs": [
        {
          "output_type": "stream",
          "name": "stdout",
          "text": [
            "['Um Sonho de Liberdade', 'O Poderoso Chefão', 'O Poderoso Chefão II', 'Batman: O Cavaleiro das Trevas', '12 Homens e uma Sentença', 'A Lista de Schindler', 'O Senhor dos Anéis: O Retorno do Rei', 'Pulp Fiction: Tempo de Violência', 'Homem-Aranha: Sem Volta Para Casa', 'Três Homens em Conflito']\n",
            "['O Poderoso Chefão', 'Um Sonho de Liberdade', 'O Poderoso Chefão II', 'Batman: O Cavaleiro das Trevas', '12 Homens e uma Sentença', 'A Lista de Schindler', 'O Senhor dos Anéis: O Retorno do Rei', 'Pulp Fiction: Tempo de Violência', 'Homem-Aranha: Sem Volta Para Casa', 'Três Homens em Conflito']\n"
          ]
        }
      ]
    },
    {
      "cell_type": "markdown",
      "metadata": {
        "id": "zMN1Q3jdwoJm"
      },
      "source": [
        "---"
      ]
    },
    {
      "cell_type": "markdown",
      "metadata": {
        "id": "lxa5L6uF0ZJE"
      },
      "source": [
        "## 2\\. Conjuntos"
      ]
    },
    {
      "cell_type": "markdown",
      "metadata": {
        "id": "9JahS2Kj0d5u"
      },
      "source": [
        "Aconteceu um erro no seu *ranking*. Simule a duplicação dos três últimos filmes da lista. Imprima o resultado."
      ]
    },
    {
      "cell_type": "code",
      "metadata": {
        "id": "BnjnLBNC6PGe",
        "colab": {
          "base_uri": "https://localhost:8080/"
        },
        "outputId": "755fc607-9f18-4eaa-d273-244816001d36"
      },
      "source": [
        "filmes = [\n",
        "          'Um Sonho de Liberdade',\n",
        "          'O Poderoso Chefão',\n",
        "          'O Poderoso Chefão II',\n",
        "          'Batman: O Cavaleiro das Trevas',\n",
        "          '12 Homens e uma Sentença',\n",
        "          'A Lista de Schindler',\n",
        "          'O Senhor dos Anéis: O Retorno do Rei',\n",
        "          'Pulp Fiction: Tempo de Violência',\n",
        "          'Homem-Aranha: Sem Volta Para Casa',\n",
        "          'Três Homens em Conflito',\n",
        "          'Pulp Fiction: Tempo de Violência',\n",
        "          'Homem-Aranha: Sem Volta Para Casa',\n",
        "          'Três Homens em Conflito'\n",
        "          ]\n",
        "print (filmes)"
      ],
      "execution_count": 28,
      "outputs": [
        {
          "output_type": "stream",
          "name": "stdout",
          "text": [
            "['Um Sonho de Liberdade', 'O Poderoso Chefão', 'O Poderoso Chefão II', 'Batman: O Cavaleiro das Trevas', '12 Homens e uma Sentença', 'A Lista de Schindler', 'O Senhor dos Anéis: O Retorno do Rei', 'Pulp Fiction: Tempo de Violência', 'Homem-Aranha: Sem Volta Para Casa', 'Três Homens em Conflito', 'Pulp Fiction: Tempo de Violência', 'Homem-Aranha: Sem Volta Para Casa', 'Três Homens em Conflito']\n"
          ]
        }
      ]
    },
    {
      "cell_type": "markdown",
      "metadata": {
        "id": "suxTfCJB6ZiX"
      },
      "source": [
        "Utiliza a conversão `set` e `list` para remover os valores duplicados. Imprima o resultado. "
      ]
    },
    {
      "cell_type": "code",
      "metadata": {
        "id": "ZvUGN-0n6joM",
        "colab": {
          "base_uri": "https://localhost:8080/"
        },
        "outputId": "eb7d7a10-9635-49e3-f281-f4671ce8db61"
      },
      "source": [
        "print(len(filmes))\n",
        "filmes_sem_repetir = list(set(filmes))\n",
        "print(filmes_sem_repetir)\n",
        "print(len(filmes_sem_repetir))"
      ],
      "execution_count": 32,
      "outputs": [
        {
          "output_type": "stream",
          "name": "stdout",
          "text": [
            "13\n",
            "['Três Homens em Conflito', 'Pulp Fiction: Tempo de Violência', 'O Senhor dos Anéis: O Retorno do Rei', 'O Poderoso Chefão', 'O Poderoso Chefão II', 'Homem-Aranha: Sem Volta Para Casa', 'Um Sonho de Liberdade', 'A Lista de Schindler', '12 Homens e uma Sentença', 'Batman: O Cavaleiro das Trevas']\n",
            "10\n"
          ]
        }
      ]
    },
    {
      "cell_type": "markdown",
      "metadata": {
        "id": "ShkK35eQ6pAM"
      },
      "source": [
        "---"
      ]
    },
    {
      "cell_type": "markdown",
      "metadata": {
        "id": "EL_FzmxL6rTv"
      },
      "source": [
        "## 3\\. Dicionários"
      ]
    },
    {
      "cell_type": "markdown",
      "metadata": {
        "id": "i8l0gFqRCpfT"
      },
      "source": [
        "Repita os exercícios da parte 1 (listas). Os elementos da lista `filmes` devem ser dicionários no seguinte formato: `{'nome': <nome-do-filme>, 'ano': <ano do filme>}, 'sinopse': <sinopse do filme>}`. "
      ]
    },
    {
      "cell_type": "code",
      "source": [
        "filmes = []\n",
        "filme1 = {'nome':'Um Sonho de Liberdade','ano':1994,'sinopse':\"resumo filme1\"}\n",
        "filmes.append(filme1)\n",
        "filme2 = {'nome':'O Poderoso Chefão','ano':1972,'sinopse':\"resumo filme2\"}\n",
        "filmes.append(filme2)\n",
        "filme3 = {'nome':'O Poderoso Chefão II','ano':1974,'sinopse':\"resumo filme3\"}\n",
        "filmes.append(filme3)\n",
        "filme4 = {'nome':'Batman: O Cavaleiro das Trevas','ano':2008,'sinopse':\"resumo filme4\"}\n",
        "filmes.append(filme4)\n",
        "filme5 = {'nome':'12 Homens e uma Sentença','ano':1957,'sinopse':\"resumo filme5\"}\n",
        "filmes.append(filme5)\n",
        "filme6 = {'nome':'A Lista de Schindler','ano':1993,'sinopse':\"resumo filme6\"}\n",
        "filmes.append(filme6)\n",
        "filme7 = {'nome':'O Senhor dos Anéis: O Retorno do Rei','ano':2003,'sinopse':\"resumo filme7\"}\n",
        "filmes.append(filme7)\n",
        "filme8 = {'nome':'Pulp Fiction: Tempo de Violência','ano':1994,'sinopse':\"resumo filme8\"}\n",
        "filmes.append(filme8)\n",
        "filme9 = {'nome':'Homem-Aranha: Sem Volta Para Casa','ano':2021,'sinopse':\"resumo filme9\"}\n",
        "filmes.append(filme9)\n",
        "filme10 = {'nome':'Três Homens em Conflito','ano':1966,'sinopse':\"resumo filme10\"}\n",
        "filmes.append(filme10)\n",
        "print(filmes)\n",
        "print(len(filmes))"
      ],
      "metadata": {
        "colab": {
          "base_uri": "https://localhost:8080/"
        },
        "id": "ZrmUfS93FVHM",
        "outputId": "66474862-bc5e-4088-ca54-55649132b566"
      },
      "execution_count": 41,
      "outputs": [
        {
          "output_type": "stream",
          "name": "stdout",
          "text": [
            "[{'nome': 'Um Sonho de Liberdade', 'ano': 1994, 'sinopse': 'resumo filme1'}, {'nome': 'O Poderoso Chefão', 'ano': 1972, 'sinopse': 'resumo filme2'}, {'nome': 'O Poderoso Chefão II', 'ano': 1974, 'sinopse': 'resumo filme3'}, {'nome': 'Batman: O Cavaleiro das Trevas', 'ano': 2008, 'sinopse': 'resumo filme4'}, {'nome': '12 Homens e uma Sentença', 'ano': 1957, 'sinopse': 'resumo filme5'}, {'nome': 'A Lista de Schindler', 'ano': 1993, 'sinopse': 'resumo filme6'}, {'nome': 'O Senhor dos Anéis: O Retorno do Rei', 'ano': 2003, 'sinopse': 'resumo filme7'}, {'nome': 'Pulp Fiction: Tempo de Violência', 'ano': 1994, 'sinopse': 'resumo filme8'}, {'nome': 'Homem-Aranha: Sem Volta Para Casa', 'ano': 2021, 'sinopse': 'resumo filme9'}, {'nome': 'Três Homens em Conflito', 'ano': 1966, 'sinopse': 'resumo filme10'}]\n",
            "10\n"
          ]
        }
      ]
    }
  ]
}