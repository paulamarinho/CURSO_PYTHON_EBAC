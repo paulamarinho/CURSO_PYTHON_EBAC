{
  "nbformat": 4,
  "nbformat_minor": 0,
  "metadata": {
    "colab": {
      "name": "Python_M1_support material01_exercise.ipynb",
      "provenance": [],
      "collapsed_sections": [],
      "toc_visible": true
    },
    "kernelspec": {
      "name": "python3",
      "display_name": "Python 3"
    }
  },
  "cells": [
    {
      "cell_type": "markdown",
      "metadata": {
        "id": "KJqp9AANOCtf"
      },
      "source": [
        "<img src=\"https://raw.githubusercontent.com/andre-marcos-perez/ebac-course-utils/main/media/logo/newebac_logo_black_half.png\" alt=\"ebac-logo\">\n",
        "\n",
        "---\n",
        "\n",
        "# **Módulo** | Python: Variáveis & Tipos de Dados\n",
        "Caderno de **Exercícios**<br> \n",
        "Professor [André Perez](https://www.linkedin.com/in/andremarcosperez/)\n",
        "\n",
        "---"
      ]
    },
    {
      "cell_type": "markdown",
      "metadata": {
        "id": "d9jDtUbDOE1-"
      },
      "source": [
        "# **Tópicos**\n",
        "\n",
        "<ol type=\"1\">\n",
        "  <li>Introdução ao Google Colab;</li>\n",
        "  <li>Variáveis;</li>\n",
        "  <li>Números;</li>\n",
        "  <li><i>Strings;</i></li>\n",
        "  <li>Boleanos.</li>\n",
        "</ol>"
      ]
    },
    {
      "cell_type": "markdown",
      "metadata": {
        "id": "SmoHgt-lwkpD"
      },
      "source": [
        "---"
      ]
    },
    {
      "cell_type": "markdown",
      "metadata": {
        "id": "GABI6OW8OfQ2"
      },
      "source": [
        "# **Exercícios**"
      ]
    },
    {
      "cell_type": "markdown",
      "metadata": {
        "id": "muD1vxozykSC"
      },
      "source": [
        "## 1\\. Google Colab"
      ]
    },
    {
      "cell_type": "markdown",
      "metadata": {
        "id": "ahrFfCuBxJKs"
      },
      "source": [
        "Crie uma célula de código que escreva o texto \"Olá mundo!\", utilize o comando `print`."
      ]
    },
    {
      "cell_type": "code",
      "metadata": {
        "colab": {
          "base_uri": "https://localhost:8080/"
        },
        "id": "K3GzOTAmVi4Y",
        "outputId": "320e0115-16ec-48a6-a970-59d251d84711"
      },
      "source": [
        "print (\"Olá mundo!\")"
      ],
      "execution_count": 1,
      "outputs": [
        {
          "output_type": "stream",
          "name": "stdout",
          "text": [
            "Olá mundo!\n"
          ]
        }
      ]
    },
    {
      "cell_type": "markdown",
      "metadata": {
        "id": "KI9zQRT2xa7m"
      },
      "source": [
        "Crie uma célua de texto e adicione uma imagem."
      ]
    },
    {
      "cell_type": "markdown",
      "metadata": {
        "id": "7AbZbxQbVwkd"
      },
      "source": [
        "Exemplo de imagem numa célula de texto:\n",
        "\n",
        "![images (1).jfif](data:image/jpeg;base64,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)"
      ]
    },
    {
      "cell_type": "markdown",
      "metadata": {
        "id": "zMN1Q3jdwoJm"
      },
      "source": [
        "---"
      ]
    },
    {
      "cell_type": "markdown",
      "metadata": {
        "id": "tFYOPLS3xiwe"
      },
      "source": [
        "## 2\\. Números"
      ]
    },
    {
      "cell_type": "markdown",
      "metadata": {
        "id": "O2G9gt7tx2c-"
      },
      "source": [
        "Preencha as células de código para preencher os valores de (A), (B) e (C) na tabela de ticket médio abaixo:\n",
        "\n",
        "<br>\n",
        "\n",
        "| Dia   | Valor Total Vendas | Qtd Total Vendas | Ticket Medio |\n",
        "|-------|--------------------|------------------|--------------|\n",
        "| 19/01 | (A)                | 3                | 320.52       |\n",
        "| 20/01 | 834.47             | (B)              | 119.21       |\n",
        "| 23/01 | 15378.12           | 5                | (C)          |"
      ]
    },
    {
      "cell_type": "code",
      "metadata": {
        "id": "nsrKH9EizNRD",
        "colab": {
          "base_uri": "https://localhost:8080/"
        },
        "outputId": "d7fbf8ed-ede2-47c9-fdcb-d373705cbe4b"
      },
      "source": [
        "# (A)\n",
        "A = 320.52 * 3\n",
        "print (A)"
      ],
      "execution_count": 2,
      "outputs": [
        {
          "output_type": "stream",
          "name": "stdout",
          "text": [
            "961.56\n"
          ]
        }
      ]
    },
    {
      "cell_type": "code",
      "metadata": {
        "id": "QQ1GBGHJzMmi",
        "colab": {
          "base_uri": "https://localhost:8080/"
        },
        "outputId": "035ae9cb-f32b-44c3-846c-db37de4a74b1"
      },
      "source": [
        "# (B)\n",
        "B = 834.47 // 119.21\n",
        "print (B)"
      ],
      "execution_count": 4,
      "outputs": [
        {
          "output_type": "stream",
          "name": "stdout",
          "text": [
            "7.0\n"
          ]
        }
      ]
    },
    {
      "cell_type": "code",
      "metadata": {
        "id": "W-li0nSMzKNa",
        "colab": {
          "base_uri": "https://localhost:8080/"
        },
        "outputId": "3014637d-59fb-49bf-eae4-b14492775cca"
      },
      "source": [
        "# (C)\n",
        "C = 15378.12 / 5\n",
        "print (C)"
      ],
      "execution_count": 5,
      "outputs": [
        {
          "output_type": "stream",
          "name": "stdout",
          "text": [
            "3075.6240000000003\n"
          ]
        }
      ]
    },
    {
      "cell_type": "markdown",
      "metadata": {
        "id": "3eoP-Vj9yzh8"
      },
      "source": [
        "---"
      ]
    },
    {
      "cell_type": "markdown",
      "metadata": {
        "id": "yUJ6kdony6Pr"
      },
      "source": [
        "## 3\\. Strings"
      ]
    },
    {
      "cell_type": "markdown",
      "metadata": {
        "id": "KDuZpg-5zCvO"
      },
      "source": [
        "Aplique três métodos distintos na *string* abaixo, você pode conferir alguns métodos neste [link](https://www.w3schools.com/python/python_ref_string.asp):"
      ]
    },
    {
      "cell_type": "code",
      "metadata": {
        "id": "k9zbyf7BzjKj",
        "colab": {
          "base_uri": "https://localhost:8080/"
        },
        "outputId": "19804090-72c7-4fc4-95ba-6f61419a521e"
      },
      "source": [
        "cancao = 'Roda mundo, roda gigante, roda moinho, roda pião.'\n",
        "print (cancao.upper())\n",
        "print (cancao.replace('Roda','RODA'))\n",
        "print (cancao.index('g'))"
      ],
      "execution_count": 11,
      "outputs": [
        {
          "output_type": "stream",
          "name": "stdout",
          "text": [
            "RODA MUNDO, RODA GIGANTE, RODA MOINHO, RODA PIÃO.\n",
            "RODA mundo, roda gigante, roda moinho, roda pião.\n",
            "17\n"
          ]
        }
      ]
    },
    {
      "cell_type": "markdown",
      "metadata": {
        "id": "guZMHXVq0FnC"
      },
      "source": [
        "Extraia da string abaixo o valor da taxa **selic** na variável `selic` e o valor do **ano** na variavel `ano`. Imprima os valores na tela."
      ]
    },
    {
      "cell_type": "code",
      "metadata": {
        "id": "cbx_P4IQ0agK",
        "colab": {
          "base_uri": "https://localhost:8080/"
        },
        "outputId": "dcfe92fd-5d70-4301-ec20-85990c308a72"
      },
      "source": [
        "noticia = 'Selic vai a 2,75% e supera expectativas; é a primeira alta em 6 anos.'\n",
        "\n",
        "# Taxa selic\n",
        "posicao_valor_selic = noticia.find ('2,75%')\n",
        "selic = noticia[posicao_valor_selic:posicao_valor_selic + 5]\n",
        "print (selic)\n",
        "\n",
        "# Ano\n",
        "posicao_ano = noticia.find ('6 anos')\n",
        "ano = noticia[posicao_ano:posicao_ano + 6]\n",
        "print (ano)\n"
      ],
      "execution_count": 20,
      "outputs": [
        {
          "output_type": "stream",
          "name": "stdout",
          "text": [
            "2,75%\n",
            "6 anos\n"
          ]
        }
      ]
    },
    {
      "cell_type": "markdown",
      "metadata": {
        "id": "wWzbu-OC0z3L"
      },
      "source": [
        "---"
      ]
    },
    {
      "cell_type": "markdown",
      "metadata": {
        "id": "no8w_Ati01xP"
      },
      "source": [
        "## 4\\. Booleanos"
      ]
    },
    {
      "cell_type": "markdown",
      "metadata": {
        "id": "D_0tC3SC099N"
      },
      "source": [
        "Utilize a tabela da verdade para responder: qual o valor da variável x?"
      ]
    },
    {
      "cell_type": "code",
      "metadata": {
        "id": "XwIEbxf91SpU"
      },
      "source": [
        "a = False\n",
        "b = True\n",
        "\n",
        "x = not a & b"
      ],
      "execution_count": null,
      "outputs": []
    },
    {
      "cell_type": "markdown",
      "metadata": {
        "id": "FgDcWHN9bnFZ"
      },
      "source": [
        "O valor de x é True"
      ]
    }
  ]
}