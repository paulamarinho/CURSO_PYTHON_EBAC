{
  "nbformat": 4,
  "nbformat_minor": 0,
  "metadata": {
    "colab": {
      "name": "modulo_5_exercicios_revisado.ipynb",
      "provenance": [],
      "collapsed_sections": []
    },
    "kernelspec": {
      "name": "python3",
      "display_name": "Python 3"
    }
  },
  "cells": [
    {
      "cell_type": "markdown",
      "metadata": {
        "id": "KJqp9AANOCtf"
      },
      "source": [
        "<img src=\"https://raw.githubusercontent.com/andre-marcos-perez/ebac-course-utils/main/media/logo/newebac_logo_black_half.png\" alt=\"ebac-logo\">\n",
        "\n",
        "---\n",
        "\n",
        "# **Módulo** | Python: Programação Funcional\n",
        "Caderno de **Exercícios**<br> \n",
        "Professor [André Perez](https://www.linkedin.com/in/andremarcosperez/)\n",
        "\n",
        "---"
      ]
    },
    {
      "cell_type": "markdown",
      "metadata": {
        "id": "d9jDtUbDOE1-"
      },
      "source": [
        "# **Tópicos**\n",
        "\n",
        "<ol type=\"1\">\n",
        "  <li>Função lambda;</li>\n",
        "  <li>Função map;</li>\n",
        "  <li>Função filter;</li>\n",
        "  <li>Função reduce.</li>\n",
        "</ol>"
      ]
    },
    {
      "cell_type": "markdown",
      "metadata": {
        "id": "SmoHgt-lwkpD"
      },
      "source": [
        "---"
      ]
    },
    {
      "cell_type": "markdown",
      "metadata": {
        "id": "GABI6OW8OfQ2"
      },
      "source": [
        "# **Exercícios**"
      ]
    },
    {
      "cell_type": "markdown",
      "metadata": {
        "id": "muD1vxozykSC"
      },
      "source": [
        "## 0\\. Preparação do ambiente "
      ]
    },
    {
      "cell_type": "markdown",
      "metadata": {
        "id": "ahrFfCuBxJKs"
      },
      "source": [
        "Neste exercício vamos trabalhar com o arquivo csv com dados de crédito, definido abaixo. Execute cada uma das células de código para escrever os arquivos na sua máquina virtual."
      ]
    },
    {
      "cell_type": "code",
      "metadata": {
        "id": "Kjt3HvFX7C3A",
        "colab": {
          "base_uri": "https://localhost:8080/"
        },
        "outputId": "309b3c70-5608-456b-8a1a-e41f7e1822f1"
      },
      "source": [
        "%%writefile credito.csv\n",
        "id_vendedor,valor_emprestimos,quantidade_emprestimos,data\n",
        "104271,448.0,1,20161208\n",
        "21476,826.7,3,20161208\n",
        "87440,313.6,3,20161208\n",
        "15980,-8008.0,6,20161208\n",
        "215906,2212.0,5,20161208\n",
        "33696,2771.3,2,20161208\n",
        "33893,2240.0,3,20161208\n",
        "214946,-4151.0,18,20161208\n",
        "123974,2021.95,2,20161208\n",
        "225870,4039.0,2,20161208"
      ],
      "execution_count": 1,
      "outputs": [
        {
          "output_type": "stream",
          "name": "stdout",
          "text": [
            "Writing credito.csv\n"
          ]
        }
      ]
    },
    {
      "cell_type": "markdown",
      "metadata": {
        "id": "tnhM9v2X7yGS"
      },
      "source": [
        "Vamos ler o conteúdo do arquivo em uma lista onde cada elemento é um dicionário representando as linhas do arquivo."
      ]
    },
    {
      "cell_type": "code",
      "metadata": {
        "id": "T00Y_WIh7uPU"
      },
      "source": [
        "emprestimos = []\n",
        "with open(file='./credito.csv', mode='r', encoding='utf8') as fp:\n",
        "  fp.readline() # cabeçalho\n",
        "  linha = fp.readline()\n",
        "  while linha:\n",
        "    linha_emprestimo = {}\n",
        "    linha_elementos = linha.strip().split(sep=',')\n",
        "    linha_emprestimo['id_vendedor'] = linha_elementos[0]\n",
        "    linha_emprestimo['valor_emprestimos'] = linha_elementos[1]\n",
        "    linha_emprestimo['quantidade_emprestimos'] = linha_elementos[2]\n",
        "    linha_emprestimo['data'] = linha_elementos[3]\n",
        "    emprestimos.append(linha_emprestimo)\n",
        "    linha = fp.readline()"
      ],
      "execution_count": 2,
      "outputs": []
    },
    {
      "cell_type": "code",
      "metadata": {
        "id": "Bp0ZgdTM84bw",
        "colab": {
          "base_uri": "https://localhost:8080/"
        },
        "outputId": "8ab4063b-aa9c-4609-f136-763c1c9f2807"
      },
      "source": [
        "for emprestimo in emprestimos:\n",
        "  print(emprestimo)"
      ],
      "execution_count": 3,
      "outputs": [
        {
          "output_type": "stream",
          "name": "stdout",
          "text": [
            "{'id_vendedor': '104271', 'valor_emprestimos': '448.0', 'quantidade_emprestimos': '1', 'data': '20161208'}\n",
            "{'id_vendedor': '21476', 'valor_emprestimos': '826.7', 'quantidade_emprestimos': '3', 'data': '20161208'}\n",
            "{'id_vendedor': '87440', 'valor_emprestimos': '313.6', 'quantidade_emprestimos': '3', 'data': '20161208'}\n",
            "{'id_vendedor': '15980', 'valor_emprestimos': '-8008.0', 'quantidade_emprestimos': '6', 'data': '20161208'}\n",
            "{'id_vendedor': '215906', 'valor_emprestimos': '2212.0', 'quantidade_emprestimos': '5', 'data': '20161208'}\n",
            "{'id_vendedor': '33696', 'valor_emprestimos': '2771.3', 'quantidade_emprestimos': '2', 'data': '20161208'}\n",
            "{'id_vendedor': '33893', 'valor_emprestimos': '2240.0', 'quantidade_emprestimos': '3', 'data': '20161208'}\n",
            "{'id_vendedor': '214946', 'valor_emprestimos': '-4151.0', 'quantidade_emprestimos': '18', 'data': '20161208'}\n",
            "{'id_vendedor': '123974', 'valor_emprestimos': '2021.95', 'quantidade_emprestimos': '2', 'data': '20161208'}\n",
            "{'id_vendedor': '225870', 'valor_emprestimos': '4039.0', 'quantidade_emprestimos': '2', 'data': '20161208'}\n"
          ]
        }
      ]
    },
    {
      "cell_type": "markdown",
      "metadata": {
        "id": "KI9zQRT2xa7m"
      },
      "source": [
        "## 1\\. Função `map`\n",
        "\n"
      ]
    },
    {
      "cell_type": "markdown",
      "metadata": {
        "id": "U63MjM7H7o1Y"
      },
      "source": [
        "Aplique a função map na lista de `emprestimos` para extrair os valores da chave `valor_emprestimos` na lista `valor_emprestimos_lista`. Faça também a conversão de `str` para `float`."
      ]
    },
    {
      "cell_type": "code",
      "metadata": {
        "id": "-yAW4PJh9h7a",
        "colab": {
          "base_uri": "https://localhost:8080/"
        },
        "outputId": "3c241795-887e-47f9-a605-03a1175f9438"
      },
      "source": [
        "#como eu fui pensando para achar a solução! :)\n",
        "#print(type(emprestimo))\n",
        "#print(type(emprestimos))\n",
        "#a=emprestimos[0]\n",
        "#print(a)\n",
        "#a1=emprestimos[0]['valor_emprestimos']\n",
        "#print(a1)\n",
        "\n",
        "#solucao:\n",
        "qtde = list(range(len(emprestimos)))\n",
        "valor_emprestimos_lista = list(map(lambda v1:float(emprestimos[v1]['valor_emprestimos']),qtde))\n",
        "print(valor_emprestimos_lista)\n",
        "\n"
      ],
      "execution_count": 4,
      "outputs": [
        {
          "output_type": "stream",
          "name": "stdout",
          "text": [
            "[448.0, 826.7, 313.6, -8008.0, 2212.0, 2771.3, 2240.0, -4151.0, 2021.95, 4039.0]\n"
          ]
        }
      ]
    },
    {
      "cell_type": "markdown",
      "metadata": {
        "id": "zMN1Q3jdwoJm"
      },
      "source": [
        "---"
      ]
    },
    {
      "cell_type": "markdown",
      "metadata": {
        "id": "WKHvMtFX_JKH"
      },
      "source": [
        "## 2\\. Função `filter`\n",
        "\n"
      ]
    },
    {
      "cell_type": "markdown",
      "metadata": {
        "id": "6V34N3Lf_gUM"
      },
      "source": [
        "Aplique a função filter na lista de `valor_emprestimos_lista` para filtrar apenas os valores maiores que zero (os valores negativas são erros na base de dados). Salve os valores na lista `valor_emprestimos_lista_filtrada`."
      ]
    },
    {
      "cell_type": "code",
      "source": [
        "valor_emprestimos_lista_filtrada = list(filter(lambda v2: v2 > 0 , valor_emprestimos_lista))\n",
        "print(valor_emprestimos_lista_filtrada) # [448.0, 826.7, ..., 4039.0]"
      ],
      "metadata": {
        "colab": {
          "base_uri": "https://localhost:8080/"
        },
        "id": "zk9ErYFDsqqS",
        "outputId": "1bd2b7ee-8bfb-43e1-9481-bf4cacb0dbc9"
      },
      "execution_count": 19,
      "outputs": [
        {
          "output_type": "stream",
          "name": "stdout",
          "text": [
            "[448.0, 826.7, 313.6, 2212.0, 2771.3, 2240.0, 2021.95, 4039.0]\n"
          ]
        }
      ]
    },
    {
      "cell_type": "markdown",
      "metadata": {
        "id": "4yqCAVCo_Yp3"
      },
      "source": [
        "---"
      ]
    },
    {
      "cell_type": "markdown",
      "metadata": {
        "id": "s4TzfRxC_Yp4"
      },
      "source": [
        "## 3\\. Função `reduce`\n",
        "\n"
      ]
    },
    {
      "cell_type": "markdown",
      "metadata": {
        "id": "RwV4V7gDAWfJ"
      },
      "source": [
        "Com a nossa lista de valores de emprestimo pronta, vamos extrair algumas métricas."
      ]
    },
    {
      "cell_type": "markdown",
      "metadata": {
        "id": "zjXA6H0LAf1_"
      },
      "source": [
        "### 3\\.1\\. Função `reduce` para extrair a **soma**"
      ]
    },
    {
      "cell_type": "markdown",
      "metadata": {
        "id": "u1kxPpkUArKw"
      },
      "source": [
        "Aplique a função reduce para somar os elementos da lista `valor_emprestimos_lista_filtrada` na variavel `soma_valor_emprestimos`."
      ]
    },
    {
      "cell_type": "code",
      "metadata": {
        "id": "fPosL2LZBDxz",
        "colab": {
          "base_uri": "https://localhost:8080/"
        },
        "outputId": "feae0b2f-1adc-4a28-bb61-eba5dfd678e4"
      },
      "source": [
        "from functools import reduce\n",
        "soma_valor_emprestimos = reduce(lambda x,y:x+y,valor_emprestimos_lista_filtrada)\n",
        "print(soma_valor_emprestimos) # 14872.550000000001"
      ],
      "execution_count": 7,
      "outputs": [
        {
          "output_type": "stream",
          "name": "stdout",
          "text": [
            "14872.550000000001\n"
          ]
        }
      ]
    },
    {
      "cell_type": "markdown",
      "metadata": {
        "id": "v8h9TkYqBLPn"
      },
      "source": [
        "### 3\\.2\\. Função `reduce` para extrair a **media aritimética**"
      ]
    },
    {
      "cell_type": "markdown",
      "metadata": {
        "id": "VXsNI53NBLPo"
      },
      "source": [
        "Aplique a função reduce para extrair a média aritimética (mais informações [aqui](https://pt.wikipedia.org/wiki/M%C3%A9dia#M%C3%A9dia_aritm%C3%A9tica)) dos elementos da lista `valor_emprestimos_lista_filtrada` na variavel `media_valor_emprestimos`."
      ]
    },
    {
      "cell_type": "code",
      "metadata": {
        "id": "qbWv8a2GBLPp",
        "colab": {
          "base_uri": "https://localhost:8080/"
        },
        "outputId": "2ca2906b-a9c0-4205-b881-b12e24aa9536"
      },
      "source": [
        "from functools import reduce\n",
        "\n",
        "media_valor_emprestimos = soma_valor_emprestimos/len(valor_emprestimos_lista_filtrada)\n",
        "print(media_valor_emprestimos) # 1859.0687500000001"
      ],
      "execution_count": 10,
      "outputs": [
        {
          "output_type": "stream",
          "name": "stdout",
          "text": [
            "1859.0687500000001\n"
          ]
        }
      ]
    },
    {
      "cell_type": "markdown",
      "metadata": {
        "id": "rCwM3DcJBeyB"
      },
      "source": [
        "### 3\\.3\\. (**Desafio**) Função `reduce` para extrair o **desvio padrão**"
      ]
    },
    {
      "cell_type": "markdown",
      "metadata": {
        "id": "jw3azoT_BeyC"
      },
      "source": [
        "Aplique a função reduce para extrair a média aritimética (mais informações [aqui](https://pt.wikipedia.org/wiki/M%C3%A9dia#M%C3%A9dia_aritm%C3%A9tica)) dos elementos da lista `valor_emprestimos_lista_filtrada` na variavel `desvio_padrao_valor_emprestimos`.\n",
        "\n"
      ]
    },
    {
      "cell_type": "code",
      "metadata": {
        "id": "8HnNxp9mBeyD",
        "colab": {
          "base_uri": "https://localhost:8080/"
        },
        "outputId": "afa303d9-ca27-48aa-d4a1-54167c2222e7"
      },
      "source": [
        "from functools import reduce\n",
        "\n",
        "a0 = list(map(lambda x: (x-media_valor_emprestimos)**2, valor_emprestimos_lista_filtrada ))\n",
        "a1 = reduce(lambda x,y: x+y, a0)/(len(valor_emprestimos_lista_filtrada)-1)\n",
        "desvio_padrao_valor_emprestimos = a1**0.5\n",
        "print(desvio_padrao_valor_emprestimos) # 1271.997271149785"
      ],
      "execution_count": 18,
      "outputs": [
        {
          "output_type": "stream",
          "name": "stdout",
          "text": [
            "1271.9972711497849\n"
          ]
        }
      ]
    },
    {
      "cell_type": "markdown",
      "metadata": {
        "id": "ai2mZYnG_b_s"
      },
      "source": [
        "---"
      ]
    }
  ]
}